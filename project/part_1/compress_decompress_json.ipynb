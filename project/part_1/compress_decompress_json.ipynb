{
 "cells": [
  {
   "cell_type": "markdown",
   "metadata": {},
   "source": [
    "Compress wildfire json file to upload on GitHub (unzipped file was too big to upload on GitHub)"
   ]
  },
  {
   "cell_type": "code",
   "execution_count": 1,
   "metadata": {},
   "outputs": [
    {
     "name": "stdout",
     "output_type": "stream",
     "text": [
      "File compressed and saved as /Users/dianechiang/Desktop/data_512/data_512_project/project/part_1/data_raw/USGS_Wildland_Fire_Combined_Dataset.json.gz\n"
     ]
    }
   ],
   "source": [
    "import gzip\n",
    "import shutil\n",
    "\n",
    "# define the input and output file paths\n",
    "input_file = 'data_raw/USGS_Wildland_Fire_Combined_Dataset.json'\n",
    "output_file = 'data_raw/USGS_Wildland_Fire_Combined_Dataset.json.gz'\n",
    "\n",
    "# compress the file\n",
    "with open(input_file, 'rb') as f_in:\n",
    "    with gzip.open(output_file, 'wb') as f_out:\n",
    "        shutil.copyfileobj(f_in, f_out)\n",
    "\n",
    "print(f\"File compressed and saved as {output_file}\")"
   ]
  },
  {
   "cell_type": "markdown",
   "metadata": {},
   "source": [
    "Decompress zipped json file to proceed with the rest of the wildfire data exploration"
   ]
  },
  {
   "cell_type": "code",
   "execution_count": null,
   "metadata": {},
   "outputs": [],
   "source": [
    "# decompress gz if needed\n",
    "input_gz_file = 'data_raw/USGS_Wildland_Fire_Combined_Dataset.json.gz'\n",
    "FILENAME = 'data_raw/USGS_Wildland_Fire_Combined_Dataset.json'\n",
    "\n",
    "\n",
    "with gzip.open(input_gz_file, 'rb') as f_in:\n",
    "    with open(FILENAME, 'wb') as f_out:\n",
    "        shutil.copyfileobj(f_in, f_out)\n",
    "\n",
    "print(f\"File decompressed and saved as {FILENAME}\")"
   ]
  }
 ],
 "metadata": {
  "kernelspec": {
   "display_name": "Python 3",
   "language": "python",
   "name": "python3"
  },
  "language_info": {
   "codemirror_mode": {
    "name": "ipython",
    "version": 3
   },
   "file_extension": ".py",
   "mimetype": "text/x-python",
   "name": "python",
   "nbconvert_exporter": "python",
   "pygments_lexer": "ipython3",
   "version": "3.12.6"
  }
 },
 "nbformat": 4,
 "nbformat_minor": 2
}
