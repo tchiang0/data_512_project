{
 "cells": [
  {
   "cell_type": "markdown",
   "metadata": {},
   "source": [
    "# US EPA Air Quality Index of Odessa, TX from 1964 - 2024"
   ]
  },
  {
   "cell_type": "markdown",
   "metadata": {},
   "source": [
    "## License\n",
    "Some code below was developed by Dr. David W. McDonald for use in DATA 512, a course in the UW MS Data Science degree program. This code is provided under the [Creative Commons](https://creativecommons.org) [CC-BY license](https://creativecommons.org/licenses/by/4.0/). Revision 1.2 - August 16, 2024"
   ]
  },
  {
   "cell_type": "markdown",
   "metadata": {},
   "source": [
    "Import relevant libraries"
   ]
  },
  {
   "cell_type": "code",
   "execution_count": 1,
   "metadata": {},
   "outputs": [],
   "source": [
    "import json, time\n",
    "import requests\n",
    "import pandas as pd\n",
    "import matplotlib.pyplot as plt"
   ]
  },
  {
   "cell_type": "code",
   "execution_count": 2,
   "metadata": {},
   "outputs": [],
   "source": [
    "#########\n",
    "#\n",
    "#    CONSTANTS\n",
    "#\n",
    "\n",
    "#\n",
    "#    This is the root of all AQS API URLs\n",
    "#\n",
    "API_REQUEST_URL = 'https://aqs.epa.gov/data/api'\n",
    "\n",
    "#\n",
    "#    These are some of the 'actions' we can ask the API to take or requests that we can make of the API\n",
    "#\n",
    "#    Sign-up request - generally only performed once - unless you lose your key\n",
    "API_ACTION_SIGNUP = '/signup?email={email}'\n",
    "#\n",
    "#    List actions provide information on API parameter values that are required by some other actions/requests\n",
    "API_ACTION_LIST_CLASSES = '/list/classes?email={email}&key={key}'\n",
    "API_ACTION_LIST_PARAMS = '/list/parametersByClass?email={email}&key={key}&pc={pclass}'\n",
    "API_ACTION_LIST_SITES = '/list/sitesByCounty?email={email}&key={key}&state={state}&county={county}'\n",
    "#\n",
    "#    Monitor actions are requests for monitoring stations that meet specific criteria\n",
    "API_ACTION_MONITORS_COUNTY = '/monitors/byCounty?email={email}&key={key}&param={param}&bdate={begin_date}&edate={end_date}&state={state}&county={county}'\n",
    "API_ACTION_MONITORS_BOX = '/monitors/byBox?email={email}&key={key}&param={param}&bdate={begin_date}&edate={end_date}&minlat={minlat}&maxlat={maxlat}&minlon={minlon}&maxlon={maxlon}'\n",
    "#\n",
    "#    Summary actions are requests for summary data. These are for daily summaries\n",
    "API_ACTION_DAILY_SUMMARY_COUNTY = '/dailyData/byCounty?email={email}&key={key}&param={param}&bdate={begin_date}&edate={end_date}&state={state}&county={county}'\n",
    "API_ACTION_DAILY_SUMMARY_BOX = '/dailyData/byBox?email={email}&key={key}&param={param}&bdate={begin_date}&edate={end_date}&minlat={minlat}&maxlat={maxlat}&minlon={minlon}&maxlon={maxlon}'\n",
    "#\n",
    "#    It is always nice to be respectful of a free data resource.\n",
    "#    We're going to observe a 100 requests per minute limit - which is fairly nice\n",
    "API_LATENCY_ASSUMED = 0.002       # Assuming roughly 2ms latency on the API and network\n",
    "API_THROTTLE_WAIT = (1.0/100.0)-API_LATENCY_ASSUMED\n",
    "#\n",
    "#\n",
    "#    This is a template that covers most of the parameters for the actions we might take, from the set of actions\n",
    "#    above. In the examples below, most of the time parameters can either be supplied as individual values to a\n",
    "#    function - or they can be set in a copy of the template and passed in with the template.\n",
    "# \n",
    "AQS_REQUEST_TEMPLATE = {\n",
    "    \"email\":      \"\",     \n",
    "    \"key\":        \"\",      \n",
    "    \"state\":      \"\",     # the two digit state FIPS # as a string\n",
    "    \"county\":     \"\",     # the three digit county FIPS # as a string\n",
    "    \"begin_date\": \"\",     # the start of a time window in YYYYMMDD format\n",
    "    \"end_date\":   \"\",     # the end of a time window in YYYYMMDD format, begin_date and end_date must be in the same year\n",
    "    \"minlat\":    0.0,\n",
    "    \"maxlat\":    0.0,\n",
    "    \"minlon\":    0.0,\n",
    "    \"maxlon\":    0.0,\n",
    "    \"param\":     \"\",     # a list of comma separated 5 digit codes, max 5 codes requested\n",
    "    \"pclass\":    \"\"      # parameter class is only used by the List calls\n",
    "}"
   ]
  },
  {
   "cell_type": "markdown",
   "metadata": {},
   "source": [
    "## Sign up for US EPA API\n",
    "Only need to be done once. After you've acquired your API key, use that for all the following data acquisition process"
   ]
  },
  {
   "cell_type": "code",
   "execution_count": 24,
   "metadata": {},
   "outputs": [],
   "source": [
    "#\n",
    "#    This implements the sign-up request. The parameters are standardized so that this function definition matches\n",
    "#    all of the others. However, the easiest way to call this is to simply call this function with your preferred\n",
    "#    email address.\n",
    "#\n",
    "def request_signup(email_address = None,\n",
    "                   endpoint_url = API_REQUEST_URL, \n",
    "                   endpoint_action = API_ACTION_SIGNUP, \n",
    "                   request_template = AQS_REQUEST_TEMPLATE,\n",
    "                   headers = None):\n",
    "    \n",
    "    # Make sure we have a string - if you don't have access to this email addres, things might go badly for you\n",
    "    if email_address:\n",
    "        request_template['email'] = email_address        \n",
    "    \n",
    "    if not request_template['email']: \n",
    "        raise Exception(\"Must supply an email address to call 'request_signup()'\")\n",
    "\n",
    "    if '@' not in request_template['email']: \n",
    "        raise Exception(f\"Must supply an email address to call 'request_signup()'. The string '{request_template['email']}' does not look like an email address.\")\n",
    "\n",
    "    # Compose the signup url - create a request URL by combining the endpoint_url with the parameters for the request\n",
    "    request_url = endpoint_url+endpoint_action.format(**request_template)\n",
    "        \n",
    "    # make the request\n",
    "    try:\n",
    "        # Wait first, to make sure we don't exceed a rate limit in the situation where an exception occurs\n",
    "        # during the request processing - throttling is always a good practice with a free data source\n",
    "        if API_THROTTLE_WAIT > 0.0:\n",
    "            time.sleep(API_THROTTLE_WAIT)\n",
    "        response = requests.get(request_url, headers=headers)\n",
    "        json_response = response.json()\n",
    "    except Exception as e:\n",
    "        print(e)\n",
    "        json_response = None\n",
    "    return json_response"
   ]
  },
  {
   "cell_type": "code",
   "execution_count": 26,
   "metadata": {},
   "outputs": [
    {
     "name": "stdout",
     "output_type": "stream",
     "text": [
      "Requesting SIGNUP ...\n",
      "{\n",
      "    \"Header\": [\n",
      "        {\n",
      "            \"status\": \"Success\",\n",
      "            \"request_time\": \"2024-10-27T16:47:22-04:00\",\n",
      "            \"url\": \"https://aqs.epa.gov/data/api/signup?email=tchiang0@uw.edu\"\n",
      "        }\n",
      "    ],\n",
      "    \"Data\": [\n",
      "        \"You should receive an email containing your new key shortly.\"\n",
      "    ]\n",
      "}\n"
     ]
    }
   ],
   "source": [
    "#\n",
    "#    A SIGNUP request is only to be done once, to request a key. A key is sent to that email address and needs to be confirmed with a click through\n",
    "#    This code should probably be commented out after you've made your key request to make sure you don't accidentally make a new sign-up request\n",
    "#\n",
    "print(\"Requesting SIGNUP ...\")\n",
    "USERNAME = \"<your_email_address>\"\n",
    "response = request_signup(USERNAME)\n",
    "print(json.dumps(response,indent=4))"
   ]
  },
  {
   "cell_type": "markdown",
   "metadata": {},
   "source": [
    "After you've activated your account from the email, you can put your `USERNAME` (your email) and the `APIKEY` given in the email"
   ]
  },
  {
   "cell_type": "code",
   "execution_count": 3,
   "metadata": {},
   "outputs": [],
   "source": [
    "USERNAME = \"\"\n",
    "APIKEY = \"\""
   ]
  },
  {
   "cell_type": "code",
   "execution_count": 4,
   "metadata": {},
   "outputs": [],
   "source": [
    "#\n",
    "#    This implements the list request. There are several versions of the list request that only require email and key.\n",
    "#    This code sets the default action/requests to list the groups or parameter class descriptors. Having those descriptors \n",
    "#    allows one to request the individual (proprietary) 5 digit codes for individual air quality measures by using the\n",
    "#    param request. Some code in later cells will illustrate those requests.\n",
    "#\n",
    "def request_list_info(email_address = None, key = None,\n",
    "                      endpoint_url = API_REQUEST_URL, \n",
    "                      endpoint_action = API_ACTION_LIST_CLASSES, \n",
    "                      request_template = AQS_REQUEST_TEMPLATE,\n",
    "                      headers = None):\n",
    "    \n",
    "    #  Make sure we have email and key - at least\n",
    "    #  This prioritizes the info from the call parameters - not what's already in the template\n",
    "    if email_address:\n",
    "        request_template['email'] = email_address\n",
    "    if key:\n",
    "        request_template['key'] = key\n",
    "    \n",
    "    # For the basic request we need an email address and a key\n",
    "    if not request_template['email']:\n",
    "        raise Exception(\"Must supply an email address to call 'request_list_info()'\")\n",
    "    if not request_template['key']: \n",
    "        raise Exception(\"Must supply a key to call 'request_list_info()'\")\n",
    "\n",
    "    # compose the request\n",
    "    request_url = endpoint_url+endpoint_action.format(**request_template)\n",
    "        \n",
    "    # make the request\n",
    "    try:\n",
    "        # Wait first, to make sure we don't exceed a rate limit in the situation where an exception occurs\n",
    "        # during the request processing - throttling is always a good practice with a free data source\n",
    "        if API_THROTTLE_WAIT > 0.0:\n",
    "            time.sleep(API_THROTTLE_WAIT)\n",
    "        response = requests.get(request_url, headers=headers)\n",
    "        json_response = response.json()\n",
    "    except Exception as e:\n",
    "        print(e)\n",
    "        json_response = None\n",
    "    return json_response"
   ]
  },
  {
   "cell_type": "markdown",
   "metadata": {},
   "source": [
    "Get the list of all the AQI pollutants"
   ]
  },
  {
   "cell_type": "code",
   "execution_count": 5,
   "metadata": {},
   "outputs": [
    {
     "name": "stdout",
     "output_type": "stream",
     "text": [
      "[\n",
      "    {\n",
      "        \"code\": \"42101\",\n",
      "        \"value_represented\": \"Carbon monoxide\"\n",
      "    },\n",
      "    {\n",
      "        \"code\": \"42401\",\n",
      "        \"value_represented\": \"Sulfur dioxide\"\n",
      "    },\n",
      "    {\n",
      "        \"code\": \"42602\",\n",
      "        \"value_represented\": \"Nitrogen dioxide (NO2)\"\n",
      "    },\n",
      "    {\n",
      "        \"code\": \"44201\",\n",
      "        \"value_represented\": \"Ozone\"\n",
      "    },\n",
      "    {\n",
      "        \"code\": \"81102\",\n",
      "        \"value_represented\": \"PM10 Total 0-10um STP\"\n",
      "    },\n",
      "    {\n",
      "        \"code\": \"88101\",\n",
      "        \"value_represented\": \"PM2.5 - Local Conditions\"\n",
      "    },\n",
      "    {\n",
      "        \"code\": \"88502\",\n",
      "        \"value_represented\": \"Acceptable PM2.5 AQI & Speciation Mass\"\n",
      "    }\n",
      "]\n"
     ]
    }
   ],
   "source": [
    "AQI_PARAM_CLASS = \"AQI POLLUTANTS\"\n",
    "request_data = AQS_REQUEST_TEMPLATE.copy()\n",
    "request_data['email'] = USERNAME\n",
    "request_data['key'] = APIKEY\n",
    "request_data['pclass'] = AQI_PARAM_CLASS  # here we specify that we want this 'pclass' or parameter classs\n",
    "\n",
    "response = request_list_info(request_template=request_data, endpoint_action=API_ACTION_LIST_PARAMS)\n",
    "\n",
    "if response[\"Header\"][0]['status'] == \"Success\":\n",
    "    print(json.dumps(response['Data'],indent=4))\n",
    "else:\n",
    "    print(json.dumps(response,indent=4))"
   ]
  },
  {
   "cell_type": "markdown",
   "metadata": {},
   "source": [
    "Separate the AQI pollutants into two categories for the API call (API call only takes five parameters at once)"
   ]
  },
  {
   "cell_type": "code",
   "execution_count": 6,
   "metadata": {},
   "outputs": [],
   "source": [
    "#   Gaseous AQI pollutants CO, SO2, NO2, and O2\n",
    "AQI_PARAMS_GASEOUS = \"42101,42401,42602,44201\"\n",
    "#\n",
    "#   Particulate AQI pollutants PM10, PM2.5, and Acceptable PM2.5\n",
    "AQI_PARAMS_PARTICULATES = \"81102,88101,88502\""
   ]
  },
  {
   "cell_type": "markdown",
   "metadata": {},
   "source": [
    "My assigned city is Odessa, TX"
   ]
  },
  {
   "cell_type": "code",
   "execution_count": 7,
   "metadata": {},
   "outputs": [],
   "source": [
    "CITY_LOCATIONS = {\n",
    "    \"odessa\": {\"city\"   : \"Odessa\",\n",
    "               \"county\" : \"Ector\",\n",
    "               \"state\"  : [\"Texas\", \"TX\"],\n",
    "               \"fips\"   : \"48135\",\n",
    "               \"latlon\" : [31.88, -102.35] } \n",
    "}"
   ]
  },
  {
   "cell_type": "code",
   "execution_count": 8,
   "metadata": {},
   "outputs": [],
   "source": [
    "#\n",
    "#    This implements the daily summary request. Daily summary provides a daily summary value for each sensor being requested\n",
    "#    from the start date to the end date. \n",
    "#\n",
    "#    Like the two other functions, this can be called with a mixture of a defined parameter dictionary, or with function\n",
    "#    parameters. If function parameters are provided, those take precedence over any parameters from the request template.\n",
    "#\n",
    "def request_daily_summary(email_address = None, key = None, param=None,\n",
    "                          begin_date = None, end_date = None, fips = None,\n",
    "                          endpoint_url = API_REQUEST_URL, \n",
    "                          endpoint_action = API_ACTION_DAILY_SUMMARY_COUNTY, \n",
    "                          request_template = AQS_REQUEST_TEMPLATE,\n",
    "                          headers = None):\n",
    "    \n",
    "    #  This prioritizes the info from the call parameters - not what's already in the template\n",
    "    if email_address:\n",
    "        request_template['email'] = email_address\n",
    "    if key:\n",
    "        request_template['key'] = key\n",
    "    if param:\n",
    "        request_template['param'] = param\n",
    "    if begin_date:\n",
    "        request_template['begin_date'] = begin_date\n",
    "    if end_date:\n",
    "        request_template['end_date'] = end_date\n",
    "    if fips and len(fips)==5:\n",
    "        request_template['state'] = fips[:2]\n",
    "        request_template['county'] = fips[2:]            \n",
    "\n",
    "    # Make sure there are values that allow us to make a call - these are always required\n",
    "    if not request_template['email']:\n",
    "        raise Exception(\"Must supply an email address to call 'request_daily_summary()'\")\n",
    "    if not request_template['key']: \n",
    "        raise Exception(\"Must supply a key to call 'request_daily_summary()'\")\n",
    "    if not request_template['param']: \n",
    "        raise Exception(\"Must supply param values to call 'request_daily_summary()'\")\n",
    "    if not request_template['begin_date']: \n",
    "        raise Exception(\"Must supply a begin_date to call 'request_daily_summary()'\")\n",
    "    if not request_template['end_date']: \n",
    "        raise Exception(\"Must supply an end_date to call 'request_daily_summary()'\")\n",
    "    # Note we're not validating FIPS fields because not all of the daily summary actions require the FIPS numbers\n",
    "        \n",
    "    # compose the request\n",
    "    request_url = endpoint_url+endpoint_action.format(**request_template)\n",
    "        \n",
    "    # make the request\n",
    "    try:\n",
    "        # Wait first, to make sure we don't exceed a rate limit in the situation where an exception occurs\n",
    "        # during the request processing - throttling is always a good practice with a free data source\n",
    "        if API_THROTTLE_WAIT > 0.0:\n",
    "            time.sleep(API_THROTTLE_WAIT)\n",
    "        response = requests.get(request_url, headers=headers)\n",
    "        json_response = response.json()\n",
    "    except Exception as e:\n",
    "        print(e)\n",
    "        json_response = None\n",
    "    return json_response"
   ]
  },
  {
   "cell_type": "markdown",
   "metadata": {},
   "source": [
    "To obtain the annual AQI, I developed a `request_yearly_summary` function. This function accepts either `AQI_PARAMS_GASEOUS` or `AQI_PARAMS_PARTICULATES` as parameters, along with the target year and the request_data input. It outputs a list summarizing air quality data from the US EPA Air Quality API. \\\n",
    "Given that the annual fire season is defined as running from May 1st to October 31st, we set the `begin_date` and `end_date` parameters within the `request_daily_summary` function to reflect this seasonal period."
   ]
  },
  {
   "cell_type": "code",
   "execution_count": 9,
   "metadata": {},
   "outputs": [],
   "source": [
    "request_data = AQS_REQUEST_TEMPLATE.copy()\n",
    "request_data['email'] = USERNAME\n",
    "request_data['key'] = APIKEY\n",
    "request_data['state'] = CITY_LOCATIONS['odessa']['fips'][:2]\n",
    "request_data['county'] = CITY_LOCATIONS['odessa']['fips'][2:]\n",
    "\n",
    "\n",
    "def request_yearly_summary(params, year, request_data):\n",
    "    \"\"\"Gets the annual fire season Air quality summary of the specified param, year, and request data\"\"\"\n",
    "    request_data['param'] = params\n",
    "    gaseous_aqi = request_daily_summary(request_template = request_data, begin_date = f\"{year}0501\", end_date = f\"{year}1031\")\n",
    "\n",
    "    if gaseous_aqi[\"Header\"][0][\"status\"] == \"Success\":\n",
    "        return gaseous_aqi[\"Data\"]\n",
    "    return None"
   ]
  },
  {
   "cell_type": "markdown",
   "metadata": {},
   "source": [
    "Request the yearly summary aqi for gaseous pollutants (CO, SO2, NO2, and O2) and save the output to `df_gas_aqi`"
   ]
  },
  {
   "cell_type": "code",
   "execution_count": 10,
   "metadata": {},
   "outputs": [],
   "source": [
    "# range() function has an exclusive end, so range(1964, 2025) gets years from 1964-2024, inclusively\n",
    "years = [str(y) for y in range(1964, 2025)]\n",
    "gas_aqi_list = []\n",
    "for y in years:\n",
    "    gas_agi = request_yearly_summary(AQI_PARAMS_GASEOUS, y, request_data)\n",
    "    if not gas_agi:\n",
    "        continue\n",
    "    gas_aqi_list += gas_agi"
   ]
  },
  {
   "cell_type": "code",
   "execution_count": 27,
   "metadata": {},
   "outputs": [],
   "source": [
    "df_gas_aqi = pd.DataFrame(gas_aqi_list)"
   ]
  },
  {
   "cell_type": "markdown",
   "metadata": {},
   "source": [
    "Request the yearly summary aqi for particulates pollutants (PM10, PM2.5, and Acceptable PM2.5) and save the output to `df_particupates_aqi`"
   ]
  },
  {
   "cell_type": "code",
   "execution_count": 11,
   "metadata": {},
   "outputs": [],
   "source": [
    "years = [str(y) for y in range(1964, 2025)]\n",
    "particulates_aqi_list = []\n",
    "for y in years:\n",
    "    particulates_aqi = request_yearly_summary(AQI_PARAMS_PARTICULATES, y, request_data)\n",
    "    if not particulates_aqi:\n",
    "        continue\n",
    "    particulates_aqi_list += particulates_aqi"
   ]
  },
  {
   "cell_type": "code",
   "execution_count": 28,
   "metadata": {},
   "outputs": [],
   "source": [
    "df_particulates_aqi = pd.DataFrame(particulates_aqi_list)"
   ]
  },
  {
   "cell_type": "markdown",
   "metadata": {},
   "source": [
    "Keep only the relevant columns (`date_local` and `aqi`) and get the annual mean AQI for each available year for both `df_gas_aqi` and `df_particulates_aqi`"
   ]
  },
  {
   "cell_type": "code",
   "execution_count": 29,
   "metadata": {},
   "outputs": [],
   "source": [
    "# for gaseous pollutants CO, SO2, NO2, and O2\n",
    "df_gas_data_aqi = df_gas_aqi[[\"date_local\", \"aqi\"]].copy()  # .copy() avoids changing the df_gas_aqi dataframe\n",
    "df_gas_data_aqi['date_local'] = pd.to_datetime(df_gas_data_aqi['date_local'])\n",
    "# drop all missing aqi values\n",
    "df_gas_data_aqi.dropna(subset=[\"aqi\"], inplace=True)\n",
    "# get the annual mean of aqi for each available year\n",
    "yearly_gas_aqi_mean = df_gas_data_aqi.groupby(df_gas_data_aqi['date_local'].dt.year)['aqi'].mean().reset_index()\n"
   ]
  },
  {
   "cell_type": "code",
   "execution_count": 30,
   "metadata": {},
   "outputs": [],
   "source": [
    "# for particulates pollutants PM10, PM2.5, and Acceptable PM2.5\n",
    "df_part_data_aqi = df_particulates_aqi[[\"date_local\", \"aqi\"]].copy()\n",
    "df_part_data_aqi['date_local'] = pd.to_datetime(df_part_data_aqi['date_local'])\n",
    "# drop all missing aqi values\n",
    "df_part_data_aqi.dropna(subset=[\"aqi\"], inplace=True)\n",
    "# get the annual mean of aqi for each available year\n",
    "yearly_part_aqi_mean = df_part_data_aqi.groupby(df_part_data_aqi['date_local'].dt.year)['aqi'].mean().reset_index()"
   ]
  },
  {
   "cell_type": "markdown",
   "metadata": {},
   "source": [
    "Concatenate both `yearly_gas_aqi_mean` and `yearly_part_aqi_mean`, group by each year, and take the mean of both aqis to get the annual mean aqi considering both gaseous and particulate pollutants"
   ]
  },
  {
   "cell_type": "code",
   "execution_count": 32,
   "metadata": {},
   "outputs": [],
   "source": [
    "yearly_full_aqi_mean = pd.concat([yearly_gas_aqi_mean, yearly_part_aqi_mean])\n",
    "yearly_full_aqi_mean = yearly_full_aqi_mean.groupby(\"date_local\")['aqi'].mean().reset_index()"
   ]
  },
  {
   "cell_type": "markdown",
   "metadata": {},
   "source": [
    "Read in the `df_within_650_miles_away_from_odessa_from_1964` for the third visualization"
   ]
  },
  {
   "cell_type": "code",
   "execution_count": 19,
   "metadata": {},
   "outputs": [
    {
     "data": {
      "text/html": [
       "<div>\n",
       "<style scoped>\n",
       "    .dataframe tbody tr th:only-of-type {\n",
       "        vertical-align: middle;\n",
       "    }\n",
       "\n",
       "    .dataframe tbody tr th {\n",
       "        vertical-align: top;\n",
       "    }\n",
       "\n",
       "    .dataframe thead th {\n",
       "        text-align: right;\n",
       "    }\n",
       "</style>\n",
       "<table border=\"1\" class=\"dataframe\">\n",
       "  <thead>\n",
       "    <tr style=\"text-align: right;\">\n",
       "      <th></th>\n",
       "      <th>Unnamed: 0</th>\n",
       "      <th>fire_name</th>\n",
       "      <th>fire_year</th>\n",
       "      <th>fire_size</th>\n",
       "      <th>fire_type</th>\n",
       "      <th>avg_dis_from_odessa</th>\n",
       "      <th>distance_category</th>\n",
       "      <th>smoke_density_estimate</th>\n",
       "    </tr>\n",
       "  </thead>\n",
       "  <tbody>\n",
       "    <tr>\n",
       "      <th>0</th>\n",
       "      <td>1088</td>\n",
       "      <td>No Fire Name Provided (2)</td>\n",
       "      <td>1964</td>\n",
       "      <td>4996.316663</td>\n",
       "      <td>Wildfire</td>\n",
       "      <td>373.351159</td>\n",
       "      <td>8.0</td>\n",
       "      <td>0.522748</td>\n",
       "    </tr>\n",
       "    <tr>\n",
       "      <th>1</th>\n",
       "      <td>1089</td>\n",
       "      <td>No Fire Name Provided (2)</td>\n",
       "      <td>1964</td>\n",
       "      <td>4995.725599</td>\n",
       "      <td>Wildfire</td>\n",
       "      <td>362.368863</td>\n",
       "      <td>8.0</td>\n",
       "      <td>0.538527</td>\n",
       "    </tr>\n",
       "    <tr>\n",
       "      <th>2</th>\n",
       "      <td>1090</td>\n",
       "      <td>No Fire Name Provided (8)</td>\n",
       "      <td>1964</td>\n",
       "      <td>4995.523496</td>\n",
       "      <td>Wildfire</td>\n",
       "      <td>369.008437</td>\n",
       "      <td>8.0</td>\n",
       "      <td>0.528816</td>\n",
       "    </tr>\n",
       "    <tr>\n",
       "      <th>3</th>\n",
       "      <td>1091</td>\n",
       "      <td>No Fire Name Provided (4)</td>\n",
       "      <td>1964</td>\n",
       "      <td>4995.490068</td>\n",
       "      <td>Wildfire</td>\n",
       "      <td>365.751696</td>\n",
       "      <td>8.0</td>\n",
       "      <td>0.533521</td>\n",
       "    </tr>\n",
       "    <tr>\n",
       "      <th>4</th>\n",
       "      <td>1092</td>\n",
       "      <td>No Fire Name Provided (2)</td>\n",
       "      <td>1964</td>\n",
       "      <td>4995.263602</td>\n",
       "      <td>Wildfire</td>\n",
       "      <td>402.522014</td>\n",
       "      <td>9.0</td>\n",
       "      <td>0.484762</td>\n",
       "    </tr>\n",
       "    <tr>\n",
       "      <th>...</th>\n",
       "      <td>...</td>\n",
       "      <td>...</td>\n",
       "      <td>...</td>\n",
       "      <td>...</td>\n",
       "      <td>...</td>\n",
       "      <td>...</td>\n",
       "      <td>...</td>\n",
       "      <td>...</td>\n",
       "    </tr>\n",
       "    <tr>\n",
       "      <th>20991</th>\n",
       "      <td>118230</td>\n",
       "      <td>Orilla Verde Recreation Area - Salt Cedar Remo...</td>\n",
       "      <td>2017</td>\n",
       "      <td>4.440648</td>\n",
       "      <td>Prescribed Fire</td>\n",
       "      <td>362.940893</td>\n",
       "      <td>8.0</td>\n",
       "      <td>0.025809</td>\n",
       "    </tr>\n",
       "    <tr>\n",
       "      <th>20992</th>\n",
       "      <td>118237</td>\n",
       "      <td>1_MA_Hay Hollow North Fork (1)</td>\n",
       "      <td>2018</td>\n",
       "      <td>5836.041286</td>\n",
       "      <td>Prescribed Fire</td>\n",
       "      <td>121.431462</td>\n",
       "      <td>3.0</td>\n",
       "      <td>103.254706</td>\n",
       "    </tr>\n",
       "    <tr>\n",
       "      <th>20993</th>\n",
       "      <td>118239</td>\n",
       "      <td>2_GUSG_TFO_West Rim Rx (1)</td>\n",
       "      <td>2018</td>\n",
       "      <td>980.773974</td>\n",
       "      <td>Prescribed Fire</td>\n",
       "      <td>553.617641</td>\n",
       "      <td>12.0</td>\n",
       "      <td>3.806114</td>\n",
       "    </tr>\n",
       "    <tr>\n",
       "      <th>20994</th>\n",
       "      <td>118355</td>\n",
       "      <td>2_HL_Jackpot Burn 20 (1)</td>\n",
       "      <td>2019</td>\n",
       "      <td>160.481181</td>\n",
       "      <td>Prescribed Fire</td>\n",
       "      <td>387.710668</td>\n",
       "      <td>8.0</td>\n",
       "      <td>0.905450</td>\n",
       "    </tr>\n",
       "    <tr>\n",
       "      <th>20995</th>\n",
       "      <td>118455</td>\n",
       "      <td>Pershing_RX_2020_LD01 (1)</td>\n",
       "      <td>2020</td>\n",
       "      <td>206.093386</td>\n",
       "      <td>Prescribed Fire</td>\n",
       "      <td>216.312273</td>\n",
       "      <td>5.0</td>\n",
       "      <td>2.121377</td>\n",
       "    </tr>\n",
       "  </tbody>\n",
       "</table>\n",
       "<p>20996 rows × 8 columns</p>\n",
       "</div>"
      ],
      "text/plain": [
       "       Unnamed: 0                                          fire_name  \\\n",
       "0            1088                          No Fire Name Provided (2)   \n",
       "1            1089                          No Fire Name Provided (2)   \n",
       "2            1090                          No Fire Name Provided (8)   \n",
       "3            1091                          No Fire Name Provided (4)   \n",
       "4            1092                          No Fire Name Provided (2)   \n",
       "...           ...                                                ...   \n",
       "20991      118230  Orilla Verde Recreation Area - Salt Cedar Remo...   \n",
       "20992      118237                     1_MA_Hay Hollow North Fork (1)   \n",
       "20993      118239                         2_GUSG_TFO_West Rim Rx (1)   \n",
       "20994      118355                           2_HL_Jackpot Burn 20 (1)   \n",
       "20995      118455                          Pershing_RX_2020_LD01 (1)   \n",
       "\n",
       "       fire_year    fire_size        fire_type  avg_dis_from_odessa  \\\n",
       "0           1964  4996.316663         Wildfire           373.351159   \n",
       "1           1964  4995.725599         Wildfire           362.368863   \n",
       "2           1964  4995.523496         Wildfire           369.008437   \n",
       "3           1964  4995.490068         Wildfire           365.751696   \n",
       "4           1964  4995.263602         Wildfire           402.522014   \n",
       "...          ...          ...              ...                  ...   \n",
       "20991       2017     4.440648  Prescribed Fire           362.940893   \n",
       "20992       2018  5836.041286  Prescribed Fire           121.431462   \n",
       "20993       2018   980.773974  Prescribed Fire           553.617641   \n",
       "20994       2019   160.481181  Prescribed Fire           387.710668   \n",
       "20995       2020   206.093386  Prescribed Fire           216.312273   \n",
       "\n",
       "       distance_category  smoke_density_estimate  \n",
       "0                    8.0                0.522748  \n",
       "1                    8.0                0.538527  \n",
       "2                    8.0                0.528816  \n",
       "3                    8.0                0.533521  \n",
       "4                    9.0                0.484762  \n",
       "...                  ...                     ...  \n",
       "20991                8.0                0.025809  \n",
       "20992                3.0              103.254706  \n",
       "20993               12.0                3.806114  \n",
       "20994                8.0                0.905450  \n",
       "20995                5.0                2.121377  \n",
       "\n",
       "[20996 rows x 8 columns]"
      ]
     },
     "execution_count": 19,
     "metadata": {},
     "output_type": "execute_result"
    }
   ],
   "source": [
    "df_within_650_miles_away_from_odessa_from_1964 = pd.read_csv(\"data_intermediate/df_within_650_miles_away_from_odessa_from_1964.csv\")\n",
    "df_within_650_miles_away_from_odessa_from_1964"
   ]
  },
  {
   "cell_type": "markdown",
   "metadata": {},
   "source": [
    "From `df_within_650_miles_away_from_odessa_from_1964`, group by each year, and get the mean estimated smoke density for each year"
   ]
  },
  {
   "cell_type": "code",
   "execution_count": 21,
   "metadata": {},
   "outputs": [
    {
     "data": {
      "text/html": [
       "<div>\n",
       "<style scoped>\n",
       "    .dataframe tbody tr th:only-of-type {\n",
       "        vertical-align: middle;\n",
       "    }\n",
       "\n",
       "    .dataframe tbody tr th {\n",
       "        vertical-align: top;\n",
       "    }\n",
       "\n",
       "    .dataframe thead th {\n",
       "        text-align: right;\n",
       "    }\n",
       "</style>\n",
       "<table border=\"1\" class=\"dataframe\">\n",
       "  <thead>\n",
       "    <tr style=\"text-align: right;\">\n",
       "      <th></th>\n",
       "      <th>fire_year</th>\n",
       "      <th>smoke_density_estimate</th>\n",
       "    </tr>\n",
       "  </thead>\n",
       "  <tbody>\n",
       "    <tr>\n",
       "      <th>0</th>\n",
       "      <td>1964</td>\n",
       "      <td>0.048402</td>\n",
       "    </tr>\n",
       "    <tr>\n",
       "      <th>1</th>\n",
       "      <td>1965</td>\n",
       "      <td>0.027459</td>\n",
       "    </tr>\n",
       "    <tr>\n",
       "      <th>2</th>\n",
       "      <td>1966</td>\n",
       "      <td>0.037424</td>\n",
       "    </tr>\n",
       "    <tr>\n",
       "      <th>3</th>\n",
       "      <td>1967</td>\n",
       "      <td>0.187720</td>\n",
       "    </tr>\n",
       "    <tr>\n",
       "      <th>4</th>\n",
       "      <td>1968</td>\n",
       "      <td>0.623827</td>\n",
       "    </tr>\n",
       "  </tbody>\n",
       "</table>\n",
       "</div>"
      ],
      "text/plain": [
       "   fire_year  smoke_density_estimate\n",
       "0       1964                0.048402\n",
       "1       1965                0.027459\n",
       "2       1966                0.037424\n",
       "3       1967                0.187720\n",
       "4       1968                0.623827"
      ]
     },
     "execution_count": 21,
     "metadata": {},
     "output_type": "execute_result"
    }
   ],
   "source": [
    "df_smoke_estimate_by_year = df_within_650_miles_away_from_odessa_from_1964.groupby('fire_year')['smoke_density_estimate'].mean().reset_index()\n",
    "df_smoke_estimate_by_year.head()"
   ]
  },
  {
   "cell_type": "markdown",
   "metadata": {},
   "source": [
    "### Visual 3: Annual Mean AQI and Annual Mean Smoke Density Estimates from 1964 to 2024\n",
    "A time series graph showing the mean annual smoke density estimates and mean annual AQI for Odessa, TX, for each fire season, defined as running from May 1st through October 31st."
   ]
  },
  {
   "cell_type": "markdown",
   "metadata": {},
   "source": [
    "The left y-axis (in blue) is the AQI and the right y-axis (in red) is the smoke density (µg/m³)"
   ]
  },
  {
   "cell_type": "markdown",
   "metadata": {},
   "source": [
    "Notice there are some missing data from both the AQI dataset and the wildfire dataset. The time series nature of the graph connects the available data points, yielding an \"estimate\" for the missing data points. However, that might not be an accurate depiction of either the mean AQI or the mean estimated smoke density for that year."
   ]
  },
  {
   "cell_type": "code",
   "execution_count": 23,
   "metadata": {},
   "outputs": [
    {
     "data": {
      "image/png": "[encoded data removed]",
      "text/plain": [
       "<Figure size 1200x600 with 2 Axes>"
      ]
     },
     "metadata": {},
     "output_type": "display_data"
    }
   ],
   "source": [
    "# missing some years\n",
    "fig, ax1 = plt.subplots(figsize=(12, 6))\n",
    "\n",
    "ax1.plot(yearly_full_aqi_mean['date_local'], yearly_full_aqi_mean['aqi'], marker = 'o', color='b')\n",
    "ax1.set_xlabel(\"Year\")\n",
    "ax1.set_ylabel(\"AQI\", color='b')\n",
    "ax1.tick_params(axis='y', labelcolor='b')\n",
    "ax1.set_ylim(0, 55)\n",
    "\n",
    "ax2 = ax1.twinx()\n",
    "ax2.plot(df_smoke_estimate_by_year['fire_year'], df_smoke_estimate_by_year['smoke_density_estimate'], marker='o', color='r')\n",
    "ax2.set_ylabel(\"Smoke Density Estimate (µg/m³)\", color='r')\n",
    "ax2.tick_params(axis='y', labelcolor='r')\n",
    "ax2.set_ylim(0, 55)\n",
    "fig.suptitle(\"Annual Mean AQI and Annual Mean Smoke Density Estimates from 1964 to 2024\")\n",
    "fig.legend(['Mean AQI', 'Smoke Density Estimate (µg/m³)'], loc=\"upper left\", bbox_to_anchor=(0.15, 0.85))\n",
    "\n",
    "plt.show()\n"
   ]
  }
 ],
 "metadata": {
  "kernelspec": {
   "display_name": "Python 3",
   "language": "python",
   "name": "python3"
  },
  "language_info": {
   "codemirror_mode": {
    "name": "ipython",
    "version": 3
   },
   "file_extension": ".py",
   "mimetype": "text/x-python",
   "name": "python",
   "nbconvert_exporter": "python",
   "pygments_lexer": "ipython3",
   "version": "3.12.6"
  }
 },
 "nbformat": 4,
 "nbformat_minor": 2
}
